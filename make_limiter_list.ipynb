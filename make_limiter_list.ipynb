{
 "cells": [
  {
   "cell_type": "markdown",
   "metadata": {},
   "source": [
    "### The plan, Stan\n",
    "\n",
    "1. Load the annotation file\n",
    "2. Check the relationship annotation structure\n",
    "3. Generate the bad indices for every object\n",
    "4. Save them in a JSON\n",
    "5. Do for: debug train, then sr4"
   ]
  },
  {
   "cell_type": "code",
   "execution_count": 2,
   "metadata": {},
   "outputs": [],
   "source": [
    "import os\n",
    "import numpy as np\n",
    "import json"
   ]
  },
  {
   "cell_type": "code",
   "execution_count": 5,
   "metadata": {},
   "outputs": [
    {
     "name": "stdout",
     "output_type": "stream",
     "text": [
      "100 \n",
      " dict_keys(['id', 'objects', 'relationships']) \n",
      " [[0, [117.34, 1.8737], 1], [1, [117.34, -1.2679], 0], [2, [340.6, 4.1171], 3], [3, [340.6, 0.9755], 2], [4, [107.23, -1.5055], 5], [5, [107.23, 1.6361], 4], [6, [139.7, 1.4704], 7], [7, [139.7, 4.612], 6], [8, [218.0, 1.5662], 9], [9, [218.0, 4.7078], 8]] \n",
      " {10}\n"
     ]
    }
   ],
   "source": [
    "fp = 'sr_debug/train/scene_info.json'\n",
    "annots = json.load(open(fp, 'r'))\n",
    "print(len(annots), '\\n', annots[0].keys(), '\\n', annots[0]['relationships'], '\\n', set([len(a['relationships']) for a in annots]))"
   ]
  },
  {
   "cell_type": "code",
   "execution_count": 14,
   "metadata": {},
   "outputs": [
    {
     "name": "stdout",
     "output_type": "stream",
     "text": [
      "[[6, 8, 1, 0, 7, 4, 2, 5, 9, 3], [4, 6, 7, 2, 9, 5, 3, 0, 1, 8], [5, 2, 1, 9, 8, 6, 3, 0, 4, 7]]\n"
     ]
    }
   ],
   "source": [
    "fraction_bad = 0.5\n",
    "# sample the bad fraction in the dataloader\n",
    "\n",
    "bad_list = []\n",
    "for a in range(len(annots)):\n",
    "    bad_idcs = np.random.permutation(10)\n",
    "    bad_list.append([int(wut) for wut in list(bad_idcs)])\n",
    "\n",
    "print(bad_list[:3])"
   ]
  },
  {
   "cell_type": "code",
   "execution_count": 15,
   "metadata": {},
   "outputs": [],
   "source": [
    "fn = 'sr_debug/train/limiter_list.json'\n",
    "\n",
    "with open(fn, 'w') as f:\n",
    "        json.dump(bad_list, f)"
   ]
  },
  {
   "cell_type": "code",
   "execution_count": 3,
   "metadata": {},
   "outputs": [],
   "source": [
    "def make_ll(f_out, n_items):\n",
    "    bad_list = []\n",
    "    for a in range(n_items):\n",
    "        bad_idcs = np.random.permutation(10)\n",
    "        bad_list.append([int(wut) for wut in list(bad_idcs)])\n",
    "        \n",
    "    with open(os.path.join(f_out, 'limiter_list.json'), 'w') as f:\n",
    "        json.dump(bad_list, f)"
   ]
  },
  {
   "cell_type": "code",
   "execution_count": 19,
   "metadata": {},
   "outputs": [],
   "source": [
    "make_ll('sr_debug/val/')"
   ]
  },
  {
   "cell_type": "code",
   "execution_count": 6,
   "metadata": {},
   "outputs": [],
   "source": [
    "fn1 = 'debug_v/train'\n",
    "fn2 = 'debug_v/val'\n",
    "n_items_1 = 12 #len(os.listdir(os.path.join(fn1, 'images')))\n",
    "n_items_2 = 100 #len(os.listdir(os.path.join(fn2, 'images')))\n",
    "make_ll(fn1, n_items_1)\n",
    "make_ll(fn2, n_items_2)"
   ]
  },
  {
   "cell_type": "code",
   "execution_count": null,
   "metadata": {},
   "outputs": [],
   "source": []
  }
 ],
 "metadata": {
  "kernelspec": {
   "display_name": "Python 3",
   "language": "python",
   "name": "python3"
  },
  "language_info": {
   "codemirror_mode": {
    "name": "ipython",
    "version": 3
   },
   "file_extension": ".py",
   "mimetype": "text/x-python",
   "name": "python",
   "nbconvert_exporter": "python",
   "pygments_lexer": "ipython3",
   "version": "3.7.3"
  }
 },
 "nbformat": 4,
 "nbformat_minor": 2
}
