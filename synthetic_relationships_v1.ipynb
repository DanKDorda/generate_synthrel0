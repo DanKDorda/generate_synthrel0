{
 "cells": [
  {
   "cell_type": "markdown",
   "metadata": {},
   "source": [
    "## Design of a simple relation dataset\n",
    "\n",
    "Goal of this NB:\n",
    "* Investigate various possibilities of creating a synthetic dataset of simple relations\n",
    "* Implement a dataset generator with varying levels of complexity, e.g.\n",
    "    * Parametrize scale differences, add noise to object or background, add noise to orientation\n",
    "    \n",
    "Before coding anything, paper design is required. Explore:\n",
    "* Possible representation of object\n",
    "* What kind of network will be applied to it\n",
    "    * What are the inputs and outputs\n",
    "    * What is the architecture? Is it broken into multiple steps, or one feed forward chonker?\n",
    "    * How to evaluate performance, and how to train?\n",
    "        * Will training be supervised, or unsupervised? If unsupervised, then how?\n",
    "        * Evaluation must be supervised... right?\n",
    "        \n",
    "Coding quandries:\n",
    "* How to render objects?\n",
    "    * PIL or Matplotlib? Or is there something else? OPEN CV DUUUH\n",
    "* Write a simple two object generator first to get a feel for the limitations? Bash it out before lunch!"
   ]
  },
  {
   "cell_type": "code",
   "execution_count": 1,
   "metadata": {},
   "outputs": [],
   "source": [
    "import numpy as np\n",
    "import cv2\n",
    "import matplotlib.pyplot as plt\n",
    "from PIL import Image\n",
    "import os\n",
    "import json\n",
    "from pprint import pprint\n",
    "\n",
    "%matplotlib inline\n",
    "plt.rcParams['figure.figsize'] = [10, 10]"
   ]
  },
  {
   "cell_type": "code",
   "execution_count": 2,
   "metadata": {},
   "outputs": [],
   "source": [
    "def show_np_canvas(canvas):\n",
    "    plt.imshow(canvas)"
   ]
  },
  {
   "cell_type": "code",
   "execution_count": 3,
   "metadata": {},
   "outputs": [
    {
     "data": {
      "image/png": "[encoded data removed]",
      "text/plain": [
       "<Figure size 432x288 with 1 Axes>"
      ]
     },
     "metadata": {
      "needs_background": "light"
     },
     "output_type": "display_data"
    }
   ],
   "source": [
    "canvas_size = (300,500,3)\n",
    "canvas = np.ones(canvas_size)\n",
    "show_np_canvas(canvas)"
   ]
  },
  {
   "cell_type": "code",
   "execution_count": 13,
   "metadata": {},
   "outputs": [
    {
     "name": "stdout",
     "output_type": "stream",
     "text": [
      "centre: (135, 91), angle 0.0\n"
     ]
    },
    {
     "data": {
      "image/png": "[encoded data removed]",
      "text/plain": [
       "<Figure size 432x288 with 1 Axes>"
      ]
     },
     "metadata": {
      "needs_background": "light"
     },
     "output_type": "display_data"
    }
   ],
   "source": [
    "# add some objects\n",
    "def get_random_pos(bounds):\n",
    "    pass\n",
    "\n",
    "def generate_dude(canvas):\n",
    "    cs = canvas.shape\n",
    "    \n",
    "    size = np.random.choice(range(10,30,4))\n",
    "    pos = (np.random.rand(2) * cs[:2]).astype('int32')\n",
    "    pos[0], pos[1] = pos[1], pos[0]\n",
    "    pos = tuple(pos)\n",
    "    # draw body\n",
    "    col = [np.random.choice([0.1,0.5, 0.9]) for x in range(3)]\n",
    "    cv2.circle(canvas, pos, size, thickness=-1, color=col)\n",
    "    \n",
    "    # draw nose\n",
    "    angle = np.random.choice(np.linspace(0,2*np.pi,8))\n",
    "    pos2 = (int(pos[0]+(size+10)*np.cos(angle)), int(pos[1]-(size+10)*np.sin(angle)))\n",
    "    print(f'centre: {pos}, angle {angle*180/np.pi}')\n",
    "    #cv2.line(canvas, pos, pos2, thickness=int(np.sqrt(size)), color=col)\n",
    "    dudevars = {'col': col, 'size': size, 'pos':pos}\n",
    "    return dudevars\n",
    "    \n",
    "    \n",
    "generate_dude(canvas)\n",
    "show_np_canvas(canvas)"
   ]
  },
  {
   "cell_type": "code",
   "execution_count": 14,
   "metadata": {},
   "outputs": [
    {
     "name": "stdout",
     "output_type": "stream",
     "text": [
      "centre: (225, 100), angle 0.0\n",
      "centre: (458, 20), angle 205.71428571428572\n",
      "centre: (300, 72), angle 51.42857142857143\n",
      "centre: (159, 28), angle 102.85714285714286\n",
      "centre: (215, 183), angle 308.5714285714286\n",
      "centre: (298, 280), angle 51.42857142857143\n",
      "centre: (50, 22), angle 154.2857142857143\n",
      "centre: (306, 70), angle 308.5714285714286\n",
      "centre: (11, 139), angle 51.42857142857143\n",
      "centre: (194, 206), angle 102.85714285714286\n",
      "centre: (486, 200), angle 51.42857142857143\n",
      "centre: (300, 196), angle 0.0\n",
      "centre: (26, 37), angle 308.5714285714286\n",
      "centre: (389, 267), angle 205.71428571428572\n",
      "centre: (436, 189), angle 154.2857142857143\n",
      "centre: (350, 283), angle 51.42857142857143\n",
      "centre: (249, 65), angle 51.42857142857143\n",
      "centre: (378, 113), angle 51.42857142857143\n",
      "centre: (235, 277), angle 205.71428571428572\n",
      "centre: (128, 0), angle 308.5714285714286\n"
     ]
    },
    {
     "data": {
      "image/png": "[encoded data removed]",
      "text/plain": [
       "<Figure size 432x288 with 1 Axes>"
      ]
     },
     "metadata": {
      "needs_background": "light"
     },
     "output_type": "display_data"
    }
   ],
   "source": [
    "canvas = np.ones(canvas_size)\n",
    "for i in range(20):\n",
    "    generate_dude(canvas)\n",
    "    \n",
    "show_np_canvas(canvas)"
   ]
  },
  {
   "cell_type": "code",
   "execution_count": 588,
   "metadata": {},
   "outputs": [],
   "source": [
    "class Element:\n",
    "    \n",
    "    def __init__(self, elements, bounds, paired_init=False, sizes=range(10,30,5), set_id=None):\n",
    "        bounds = list(bounds)\n",
    "        bounds[0], bounds[1] = bounds[1], bounds[0]\n",
    "        self.bounds = bounds\n",
    "        \n",
    "        self.size = np.random.choice(sizes)\n",
    "        #self.col = [np.random.choice([0.2,0.4, 0.8, 0.5, 0.9]) for x in range(3)]\n",
    "        self.col = [1, 1, 1]\n",
    "        \n",
    "        self.partner = None\n",
    "        self.bbox = None\n",
    "        self.position = None\n",
    "        \n",
    "        if set_id is not None:\n",
    "            self.id = set_id\n",
    "        else:\n",
    "            if len(elements) > 0:\n",
    "                self.id = max([e.id for e in elements]) + 1\n",
    "                if not paired_init:\n",
    "                    self.partner = np.random.choice(elements+[None, None, None, None])\n",
    "            else:\n",
    "                self.id = 0\n",
    "\n",
    "        self._set_random_position_and_bbox(elements)\n",
    "        self._set_orientation()\n",
    "        \n",
    "    def draw(self, canvas, draw_bbox=False):\n",
    "        # draw body\n",
    "        cv2.circle(canvas, self.position, self.size, thickness=-1, color=self.col, lineType=cv2.LINE_AA)\n",
    "        # draw nose\n",
    "        cv2.line(canvas, self.position, self.nose_tip, thickness=int(np.sqrt(self.size)), color=self.col, lineType=cv2.LINE_AA)\n",
    "        if draw_bbox:\n",
    "            cv2.rectangle(canvas, (self.bbox[0], self.bbox[2]), (self.bbox[1], self.bbox[3]), color=1, thickness=2)\n",
    "    \n",
    "    def collides(self, element):\n",
    "        bbox2 = element.bbox\n",
    "        if self.bbox[0] > bbox2[1] or self.bbox[1] < bbox2[0]:\n",
    "            return False\n",
    "        if self.bbox[2] > bbox2[3] or self.bbox[3] < bbox2[2]:\n",
    "            return False\n",
    "        return True\n",
    "    \n",
    "    def is_position_valid(self, elements):\n",
    "        collides = np.any([self.collides(e) for e in elements])\n",
    "        # print('collides:', collides)\n",
    "        out_of_bounds = self.bbox[0] < 0 or self.bbox[1] > self.bounds[0] or self.bbox[2] < 0 or self.bbox[3] > self.bounds[1]\n",
    "        # print('oob:', out_of_bounds)\n",
    "        is_invalid = collides or out_of_bounds\n",
    "        return not is_invalid\n",
    "    \n",
    "    def set_partner(self, element, elements):\n",
    "        self.partner = element\n",
    "        if element.partner and not (element.partner.id == self.id):\n",
    "            self._set_random_position_and_bbox(elements)\n",
    "        self._set_orientation()\n",
    "    \n",
    "    def _set_random_position_and_bbox(self, elements):\n",
    "        try: \n",
    "            mean = self.partner.position\n",
    "            stdev = 200\n",
    "            # print(f'partnered boy: m {mean}, sd {stdev}')\n",
    "        except AttributeError as e:\n",
    "            mean = [b/2 for b in self.bounds] #(np.random.rand(2) * self.bounds).astype('int32')\n",
    "            stdev = np.array(self.bounds)/2\n",
    "            # print(f'solo boy: m {mean}, sd {stdev}')\n",
    "            \n",
    "        pos = (np.random.randn(2)*stdev + mean).astype('int32')\n",
    "        #pos = (np.random.rand(2) * self.bounds).astype('int32')\n",
    "        # x,y,w,h format is bad\n",
    "        # min_x, max_x, min_y, max_y format better!\n",
    "        bbs = int(1.5*self.size)\n",
    "        self.bbox = (int(pos[0]-bbs), int(pos[0]+bbs), int(pos[1]-bbs), int(pos[1]+bbs))\n",
    "        i = 0\n",
    "        while not self.is_position_valid(elements):\n",
    "            #pos = (np.random.rand(2) * self.bounds).astype('int32')\n",
    "            i += 1\n",
    "            pos = (np.random.randn(2)*stdev + mean).astype('int32')\n",
    "            #print(f'pos@{i} {pos}')\n",
    "            self.bbox = (int(pos[0]-bbs), int(pos[0]+bbs), int(pos[1]-bbs), int(pos[1]+bbs))\n",
    "            if i > 50000:\n",
    "                raise ValueError('finding position fail')\n",
    "            \n",
    "        self.position = tuple(pos)\n",
    "        # assert self.bbox[1] - self.bbox[0] == 96 and self.bbox[3] - self.bbox[2] == 96, f'bbox size: {self.bbox[1] - self.bbox[0]}, {self.bbox[3] - self.bbox[2]}'\n",
    "    \n",
    "    def _set_orientation(self):\n",
    "        if self.partner is None:\n",
    "            self.orientation = np.random.choice(np.linspace(0,2*np.pi,8)) + np.random.randn()*0.01\n",
    "        else:\n",
    "            dy = self.partner.position[1] - self.position[1]\n",
    "            dx = self.partner.position[0] - self.position[0]\n",
    "            orientation = np.arctan((dy)/(dx))\n",
    "            if dx < 0:\n",
    "                orientation += np.pi\n",
    "            self.orientation = orientation\n",
    "        self._set_nose_tip()\n",
    "            \n",
    "    def _set_nose_tip(self):\n",
    "        self.nose_tip = (int(self.position[0]+(1.5*self.size)*np.cos(self.orientation)), int(self.position[1]+(1.5*self.size)*np.sin(self.orientation)))\n"
   ]
  },
  {
   "cell_type": "code",
   "execution_count": 590,
   "metadata": {},
   "outputs": [],
   "source": [
    "class Scene:\n",
    "    \n",
    "    def __init__(self, canvas_size, element_class=Element, output_dir='', element_sizes=range(10,30,5)):\n",
    "        self.canvas_size = canvas_size\n",
    "        self.output_dir = output_dir\n",
    "        self.element_sizes = element_sizes\n",
    "        self.Element = element_class\n",
    "        \n",
    "        self.canvas = np.zeros(canvas_size+(3,))\n",
    "        self.elements = []\n",
    "        self.relationships = []\n",
    "        \n",
    "    def add_element(self):\n",
    "        new_element = self.Element(self.elements, self.canvas_size, sizes=self.element_sizes)\n",
    "        self.elements.append(new_element)\n",
    "        if new_element.partner:          \n",
    "            self.add_relationship(new_element, new_element.partner)\n",
    "    \n",
    "    def add_paired_elements(self, set_id=(None, None)):\n",
    "        e1 = self.Element(self.elements, self.canvas_size, paired_init=True, sizes=self.element_sizes, set_id=set_id[0])\n",
    "        self.elements.append(e1)\n",
    "        e2 = self.Element(self.elements, self.canvas_size, paired_init=True, sizes=self.element_sizes, set_id=set_id[1])\n",
    "        self.elements.append(e2)\n",
    "        \n",
    "        e1.set_partner(e2, self.elements)\n",
    "        e2.set_partner(e1, self.elements)\n",
    "        # e1._set_orientation()\n",
    "        \n",
    "        self.add_relationship(e1, e2)\n",
    "        self.add_relationship(e2, e1)\n",
    "        \n",
    "    def draw_scene(self, bbox=False):\n",
    "        for element in self.elements:\n",
    "            element.draw(self.canvas, bbox)\n",
    "        \n",
    "    def clean_canvas(self):\n",
    "        self.canvas = np.zeros(self.canvas_size+(3,))\n",
    "        \n",
    "    def clean_scene(self):\n",
    "        self.canvas = np.zeros(self.canvas_size+(3,))\n",
    "        self.elements = []\n",
    "        self.relationships = []\n",
    "        \n",
    "    def show_canvas(self):\n",
    "        plt.imshow(self.canvas)\n",
    "        \n",
    "    def save_im(self, scene_id):\n",
    "        pil_img = Image.fromarray((self.canvas*255).astype('uint8'))\n",
    "        pil_img.save(os.path.join(self.output_dir, 'images', str(scene_id) + '.jpg'))\n",
    "    \n",
    "    def get_scene_dict(self, scene_id):\n",
    "        scene_dict = {}\n",
    "        scene_dict['id'] = scene_id\n",
    "        scene_dict['objects'] = [{'object_id': e.id, 'bbox': e.bbox, 'orientation': round(e.orientation, 4), 'col': e.col} for e in self.elements]\n",
    "        scene_dict['relationships'] = self.relationships\n",
    "        \n",
    "        return scene_dict\n",
    "        \n",
    "    def add_relationship(self, e1, e2):\n",
    "        dist = np.sqrt((e1.position[0]-e2.position[0])**2+(e1.position[1]-e2.position[1])**2)\n",
    "        angle = e1.orientation\n",
    "        pred = (round(dist, 2), round(angle,4))\n",
    "        rel_item = (e1.id, pred, e2.id)\n",
    "        self.relationships.append(rel_item)\n"
   ]
  },
  {
   "cell_type": "code",
   "execution_count": 591,
   "metadata": {},
   "outputs": [],
   "source": [
    "### scene with colour and size and feature matching business\n",
    "class ColourElement(Element):\n",
    "    def __init__(self, elements, bounds, paired_init=False, sizes=range(10,30,5), set_id=None):\n",
    "        super().__init__(elements, bounds, paired_init, sizes, set_id)\n",
    "        #allowed_cols = [[1, 0.8, 0.6], [0.3, 0.7, 0.7], [0.3, 0.3, 1]]\n",
    "        allowed_cols = [[1, 0.8, 0.6], [0.3, 0.7, 0.0], [0.9, 0.3, 0.4]]\n",
    "        allowed_cols = allowed_cols + [[c - np.random.choice([0.2, 0.3]) for c in col] for col in allowed_cols]\n",
    "        #allowed_cols = [[0.3, 0.3, 1]]\n",
    "        #self.col = [np.random.choice([0.7, 1]) for x in range(3)]\n",
    "        self.col = allowed_cols[np.random.randint(0, len(allowed_cols))]\n",
    "        self.partner = None\n",
    "        self._set_orientation()\n",
    "        \n",
    "    def draw(self, canvas, draw_bbox=False):\n",
    "        # draw body\n",
    "        cv2.circle(canvas, self.position, self.size, thickness=-1, color=self.col, lineType=cv2.LINE_AA)\n",
    "        # draw nose\n",
    "        cv2.line(canvas, self.position, self.nose_tip, thickness=int(np.sqrt(self.size))+5, color=self.col, lineType=cv2.LINE_AA)"
   ]
  },
  {
   "cell_type": "code",
   "execution_count": 593,
   "metadata": {
    "scrolled": false
   },
   "outputs": [
    {
     "name": "stderr",
     "output_type": "stream",
     "text": [
      "Clipping input data to the valid range for imshow with RGB data ([0..1] for floats or [0..255] for integers).\n",
      "Clipping input data to the valid range for imshow with RGB data ([0..1] for floats or [0..255] for integers).\n"
     ]
    },
    {
     "data": {
      "image/png": "[encoded data removed]",
      "text/plain": [
       "<Figure size 864x864 with 1 Axes>"
      ]
     },
     "metadata": {
      "needs_background": "light"
     },
     "output_type": "display_data"
    }
   ],
   "source": [
    "### test scene with new elemnts\n",
    "#es = [20, 35, 35, 50, 10, 42]\n",
    "es = [35]\n",
    "scene = Scene((500, 500), element_class=ColourElement, element_sizes=es)\n",
    "scene.canvas.fill(0.9)\n",
    "\n",
    "sets = [(1, 2), (3, 4)]\n",
    "for i in range(2):\n",
    "    scene.add_paired_elements(set_id=sets[i])\n",
    "    \n",
    "for i in range(3):\n",
    "    scene.add_element()\n",
    "\n",
    "    \n",
    "scene.draw_scene()\n",
    "scene.show_canvas()\n",
    "\n",
    "def feature_match_rels(elements):\n",
    "    centres = []\n",
    "    for element1 in elements:\n",
    "        for element2 in elements:\n",
    "            if element1.id == element2.id:\n",
    "                continue\n",
    "            if element1.col == element2.col and element1.size == element2.size:\n",
    "                centres.append([element1.position, element2.position])\n",
    "                \n",
    "    return centres\n",
    "\n",
    "#print(feature_match_rels(scene.elements))\n",
    "\n",
    "def draw_lines(scene, centres, col=(0.4, 0, 0)):\n",
    "    for endpoints in centres:\n",
    "        cv2.line(scene.canvas, endpoints[0], endpoints[1], color=col, thickness=2)\n",
    "\n",
    "draw_lines(scene, feature_match_rels(scene.elements))\n",
    "\n",
    "def draw_rels(scene):\n",
    "    elems = scene.elements\n",
    "    rels = scene.relationships\n",
    "    centres = []\n",
    "    for rel in rels:\n",
    "        pos1 = list(filter(lambda e: e.id==rel[0], elems))[0].position\n",
    "        pos2 = list(filter(lambda e: e.id==rel[2], elems))[0].position\n",
    "        centres.append((pos1, pos2))\n",
    "    draw_lines(scene, centres, col=(0.0, 0.0, 0.7))\n",
    "\n",
    "draw_rels(scene)\n",
    "scene.show_canvas()\n",
    "plt.axis('off')\n",
    "plt.gcf().set_size_inches(12, 12)"
   ]
  },
  {
   "cell_type": "code",
   "execution_count": 348,
   "metadata": {},
   "outputs": [
    {
     "name": "stdout",
     "output_type": "stream",
     "text": [
      "[[(370, 158), (457, 57)], [(44, 225), (140, 267)], [(457, 57), (370, 158)], [(129, 453), (234, 436)], [(234, 436), (129, 453)], [(140, 267), (44, 225)]]\n"
     ]
    },
    {
     "data": {
      "image/png": "[encoded data removed]",
      "text/plain": [
       "<Figure size 864x864 with 1 Axes>"
      ]
     },
     "metadata": {
      "needs_background": "light"
     },
     "output_type": "display_data"
    }
   ],
   "source": [
    "scene = Scene((500, 500), element_class=ColourElement, element_sizes=[20])\n",
    "scene.canvas.fill(0.9)\n",
    "for i in range(8):\n",
    "    scene.add_element()\n",
    "    \n",
    "def find_closest_centres(elements):\n",
    "    centres = []\n",
    "    for element1 in elements:\n",
    "        dists = []\n",
    "        for element2 in elements:\n",
    "            if element1.id == element2.id:\n",
    "                continue\n",
    "            d = (element1.position[1] - element2.position[1])**2 + (element1.position[0] - element2.position[0])**2 \n",
    "            dists.append((d, [element1.position, element2.position]))\n",
    "        dists = sorted(dists, key=lambda d: d[0])\n",
    "        closest = dists[0]\n",
    "        if closest[0] < 20000:\n",
    "            centres.append(closest[1])\n",
    "    return centres\n",
    "\n",
    "cs = find_closest_centres(scene.elements)\n",
    "print(cs)\n",
    "\n",
    "draw_lines(scene, cs)\n",
    "scene.draw_scene()\n",
    "scene.show_canvas()\n",
    "plt.axis('off')\n",
    "plt.gcf().set_size_inches(12, 12)"
   ]
  },
  {
   "cell_type": "code",
   "execution_count": 89,
   "metadata": {},
   "outputs": [
    {
     "name": "stdout",
     "output_type": "stream",
     "text": [
      "(356, 237) (339, 338)\n"
     ]
    }
   ],
   "source": [
    "### Test the collision detection!\n",
    "e1 = Element([], [500, 500], sizes=[20])\n",
    "e2 = Element([e1], [500, 500], sizes=[20])\n",
    "print(e1.position, e2.position)"
   ]
  },
  {
   "cell_type": "code",
   "execution_count": 24,
   "metadata": {
    "scrolled": true
   },
   "outputs": [
    {
     "data": {
      "image/png": "[encoded data removed]",
      "text/plain": [
       "<Figure size 432x288 with 1 Axes>"
      ]
     },
     "metadata": {
      "needs_background": "light"
     },
     "output_type": "display_data"
    },
    {
     "data": {
      "image/png": "[encoded data removed]",
      "text/plain": [
       "<Figure size 432x288 with 1 Axes>"
      ]
     },
     "metadata": {
      "needs_background": "light"
     },
     "output_type": "display_data"
    },
    {
     "data": {
      "image/png": "[encoded data removed]",
      "text/plain": [
       "<Figure size 432x288 with 1 Axes>"
      ]
     },
     "metadata": {
      "needs_background": "light"
     },
     "output_type": "display_data"
    },
    {
     "data": {
      "image/png": "[encoded data removed]",
      "text/plain": [
       "<Figure size 432x288 with 1 Axes>"
      ]
     },
     "metadata": {
      "needs_background": "light"
     },
     "output_type": "display_data"
    },
    {
     "data": {
      "image/png": "[encoded data removed]",
      "text/plain": [
       "<Figure size 432x288 with 1 Axes>"
      ]
     },
     "metadata": {
      "needs_background": "light"
     },
     "output_type": "display_data"
    },
    {
     "data": {
      "image/png": "[encoded data removed]",
      "text/plain": [
       "<Figure size 432x288 with 1 Axes>"
      ]
     },
     "metadata": {
      "needs_background": "light"
     },
     "output_type": "display_data"
    },
    {
     "data": {
      "image/png": "[encoded data removed]",
      "text/plain": [
       "<Figure size 432x288 with 1 Axes>"
      ]
     },
     "metadata": {
      "needs_background": "light"
     },
     "output_type": "display_data"
    },
    {
     "data": {
      "image/png": "[encoded data removed]",
      "text/plain": [
       "<Figure size 432x288 with 1 Axes>"
      ]
     },
     "metadata": {
      "needs_background": "light"
     },
     "output_type": "display_data"
    }
   ],
   "source": [
    "scene = Scene((300,800), element_sizes=[32])\n",
    "for i in range(8):\n",
    "    for j in range(4):\n",
    "        # scene.add_element()\n",
    "        scene.add_paired_elements()\n",
    "    scene.draw_scene(bbox=False)\n",
    "    scene.show_canvas()\n",
    "    plt.show()\n",
    "    # print(2*i+1)\n",
    "    scene.clean_scene()"
   ]
  },
  {
   "cell_type": "code",
   "execution_count": null,
   "metadata": {},
   "outputs": [],
   "source": [
    "def vanilla_and_bucket_generator():\n",
    "    scene = Scene((500,500), element_sizes=[25])\n",
    "    for i in range(5):\n",
    "        scene.add_paired_elements()"
   ]
  },
  {
   "cell_type": "markdown",
   "metadata": {},
   "source": [
    "### Updates\n",
    "There is a janky generator\n",
    "Before polishing this bad boy to provide:\n",
    "* Pairwise relationships\n",
    "* Normally distributed position suggestion, based on the previous location\n",
    "* Noise on the kerls, and the background\n",
    "* Object classes, and which other classes they like to bond with\n",
    "\n",
    "I'll work on the network that can use these fake images\n",
    "I want something which will:\n",
    "1. take the image\n",
    "2. Use a pretend RCNN to recover the bounding boxes (with noise..?)\n",
    "3. Use a GCN to learn the graph structure\n",
    "4. Propagate the graph structure\n",
    "5. Predict a missing link??????????\n",
    "\n",
    "At some point it's important to evaluate it too...\n",
    "\n",
    "I guess an imporant feature of this synthetic dataset is that a relationship can be classified by the geometry...\n",
    "\n",
    "Maybe orientations, and distances, should be discretized... or maybe only in the network\n",
    "\n",
    "The network should learn to predict the parametric relationship... Use the fully supervised training, and the unsupervised training too?\n",
    "\n",
    "And use that selfie idea... show that self-supervised pretraining can boost performance and lead to better data utilization!!!!!!!\n",
    "\n",
    "AND THAT IT CAN BE USED FOR GCNs YYAAA\n",
    "___\n",
    "Network developments\n",
    "\n",
    "1. Dataloader <- do this last, it's the easy bit\n",
    "2. model forward <- yes\n",
    "3. model networks implementation yeet\n",
    "4. Loss function <- important to realise what this'll be early on"
   ]
  },
  {
   "cell_type": "code",
   "execution_count": 59,
   "metadata": {},
   "outputs": [
    {
     "name": "stdout",
     "output_type": "stream",
     "text": [
      "[(0, (122.77, 0.4017), 1), (1, (122.77, 3.5433), 0), (2, (317.59, 1.2998), 3), (3, (317.59, 4.4414), 2), (4, (249.87, 0.5425), 5), (5, (249.87, 3.6841), 4), (6, (412.99, 1.9477), 7), (7, (412.99, -1.1939), 6), (8, (104.55, 1.9531), 9), (9, (104.55, -1.1885), 8)]\n"
     ]
    },
    {
     "data": {
      "image/png": "[encoded data removed]",
      "text/plain": [
       "<Figure size 432x288 with 1 Axes>"
      ]
     },
     "metadata": {
      "needs_background": "light"
     },
     "output_type": "display_data"
    }
   ],
   "source": [
    "# pairwise test\n",
    "scene2 = Scene((500,500), element_sizes=[32])\n",
    "for i in range(5):\n",
    "    scene2.add_paired_elements()\n",
    "    #scene2.add_element()\n",
    "scene2.draw_scene(bbox=False)\n",
    "scene2.show_canvas()\n",
    "print(scene2.relationships)"
   ]
  },
  {
   "cell_type": "code",
   "execution_count": 486,
   "metadata": {},
   "outputs": [
    {
     "name": "stdout",
     "output_type": "stream",
     "text": [
      "[7, 6, 9, 1, 2, 3, 0, 8, 4, 5]\n"
     ]
    },
    {
     "data": {
      "image/png": "[encoded data removed]",
      "text/plain": [
       "<Figure size 432x288 with 1 Axes>"
      ]
     },
     "metadata": {
      "needs_background": "light"
     },
     "output_type": "display_data"
    }
   ],
   "source": [
    "def generate_scene(scene):\n",
    "    num_elements = 5#np.random.choice(num_elements_allowed)\n",
    "    # id_set = list(range(num_elements*2))\n",
    "    id_set = [0, 1, 2, 3, 4, 5, 6, 7, 8, 9]\n",
    "    for j in range(num_elements):\n",
    "        # print(f'ids: {id_set}')\n",
    "        chosen_id_1 = np.random.choice(id_set)\n",
    "        id_set.remove(chosen_id_1)\n",
    "        chosen_id_2 = np.random.choice(id_set)\n",
    "        id_set.remove(chosen_id_2)\n",
    "        # print(chosen_id_1, chosen_id_2)        \n",
    "        scene.add_paired_elements(set_id=(int(chosen_id_1), int(chosen_id_2)))\n",
    "\n",
    "scene = Scene((500, 500))\n",
    "generate_scene(scene)\n",
    "scene.draw_scene()\n",
    "scene.show_canvas()\n",
    "print([e.id for e in scene.elements])"
   ]
  },
  {
   "cell_type": "code",
   "execution_count": 610,
   "metadata": {},
   "outputs": [
    {
     "data": {
      "image/png": "[encoded data removed]",
      "text/plain": [
       "<Figure size 864x864 with 1 Axes>"
      ]
     },
     "metadata": {
      "needs_background": "light"
     },
     "output_type": "display_data"
    },
    {
     "data": {
      "image/png": "[encoded data removed]",
      "text/plain": [
       "<Figure size 864x864 with 1 Axes>"
      ]
     },
     "metadata": {
      "needs_background": "light"
     },
     "output_type": "display_data"
    }
   ],
   "source": [
    "scene = Scene((1000, 1000), element_sizes=[64])\n",
    "generate_scene(scene)\n",
    "scene.draw_scene()\n",
    "plt.axis('off')\n",
    "scene.show_canvas()\n",
    "plt.gcf().set_size_inches(12, 12)\n",
    "plt.show()\n",
    "# now bucket\n",
    "import torch # yike\n",
    "#buckets = torch.tensor([-np.pi, -np.pi/2, 0, np.pi/2, np.pi])\n",
    "buckets = torch.tensor([-1, -0.5, 0, 0.5, 1])\n",
    "orientation_tensor = torch.tensor([(e.orientation-np.pi/2)/(np.pi) for e in scene.elements])\n",
    "#print(orientation_tensor.unsqueeze(1))\n",
    "#print(orientation_tensor.shape)\n",
    "#print(buckets.repeat(10, 1).shape)\n",
    "buckets_dist = (buckets.repeat(10, 1) - orientation_tensor.unsqueeze(1)) ** 2\n",
    "closest_bucket = torch.argmin(buckets_dist, dim=1)\n",
    "closest_bucket[closest_bucket == 4] = 0\n",
    "#bucket_onehot = torch.zeros(self.batch_size, self.num_objects, self.nob)\n",
    "#bucket_onehot = torch.scatter(bucket_onehot, 2, closest_bucket.unsqueeze(2), 1)\n",
    "#print(closest_bucket)\n",
    "closest_bucket_vals = torch.gather(buckets[:4], 0, closest_bucket)\n",
    "#closest_bucket_vals.unsqueeze_(1)\n",
    "#print(closest_bucket_vals)\n",
    "\n",
    "for bv, el in zip(closest_bucket_vals.tolist(), scene.elements):\n",
    "    el.orientation = (bv+0.5)*np.pi\n",
    "    el._set_nose_tip()\n",
    "    #print(bv)\n",
    "\n",
    "scene.clean_canvas()\n",
    "scene.draw_scene()\n",
    "scene.show_canvas()\n",
    "plt.axis('off')\n",
    "plt.gcf().set_size_inches(12, 12)"
   ]
  },
  {
   "cell_type": "code",
   "execution_count": 24,
   "metadata": {},
   "outputs": [],
   "source": [
    "def run_scene_generator(n_scenes, output_dir, num_elements_allowed=[5]):\n",
    "    try:\n",
    "        os.makedirs(output_dir)\n",
    "    except FileExistsError as e:\n",
    "        print(e)\n",
    "    try:\n",
    "        os.makedirs(os.path.join(output_dir, 'images'))\n",
    "    except FileExistsError as e:\n",
    "        print(e)\n",
    "\n",
    "    scene = Scene((500,500), output_dir=output_dir, element_sizes=[32])\n",
    "    scene_dict_list = []\n",
    "    \n",
    "    n_fails = 0\n",
    "    i = 0\n",
    "\n",
    "    while i < n_scenes:\n",
    "        if i % 200 == 1:\n",
    "            print(i-1)\n",
    "            \n",
    "        try:\n",
    "            generate_scene(scene)\n",
    "            scene.draw_scene()\n",
    "            scene.save_im(i)\n",
    "            scene_dict_list.append(scene.get_scene_dict(i))\n",
    "            i += 1\n",
    "        except ValueError as e:\n",
    "            n_fails += 1\n",
    "            if n_fails % 20 == 0:\n",
    "                print(f'{n_fails} fails')\n",
    "            continue\n",
    "        finally:\n",
    "            scene.clean_scene()\n",
    "    \n",
    "    print(n_fails)\n",
    "    with open(os.path.join(output_dir, 'scene_info.json'), 'w') as f:\n",
    "        json.dump(scene_dict_list, f)\n",
    "        pass\n",
    "    \n",
    "    print('done')"
   ]
  },
  {
   "cell_type": "code",
   "execution_count": 9,
   "metadata": {
    "collapsed": true
   },
   "outputs": [
    {
     "name": "stdout",
     "output_type": "stream",
     "text": [
      "[Errno 17] File exists: 'sr_fix'\n",
      "[Errno 17] File exists: 'sr_fix/images'\n",
      "3 1\n",
      "0 6\n",
      "7 9\n",
      "8 4\n",
      "5 2\n",
      "0\n",
      "7 6\n",
      "9 2\n",
      "3 1\n",
      "8 0\n",
      "4 5\n",
      "8 1\n",
      "3 7\n",
      "5 6\n",
      "9 2\n",
      "4 0\n",
      "7 5\n",
      "1 4\n",
      "2 0\n",
      "6 9\n",
      "3 8\n",
      "0 9\n",
      "4 6\n",
      "1 8\n",
      "3 5\n",
      "2 7\n",
      "0\n",
      "done\n"
     ]
    }
   ],
   "source": [
    "# debug sg\n",
    "run_scene_generator(n_scenes=5, output_dir='sr_fix')"
   ]
  },
  {
   "cell_type": "code",
   "execution_count": 36,
   "metadata": {
    "scrolled": true
   },
   "outputs": [
    {
     "name": "stdout",
     "output_type": "stream",
     "text": [
      "[Errno 17] File exists: '/Users/i517610/Documents/small_experiments/simple_relation/debug_v/val'\n",
      "[Errno 17] File exists: '/Users/i517610/Documents/small_experiments/simple_relation/debug_v/val/images'\n",
      "0\n",
      "half a million aint enough yayoo... yerigte\n"
     ]
    },
    {
     "name": "stderr",
     "output_type": "stream",
     "text": [
      "/Users/i517610/.conda/envs/testing_ground/lib/python3.7/site-packages/ipykernel_launcher.py:160: RuntimeWarning: divide by zero encountered in int_scalars\n"
     ]
    },
    {
     "name": "stdout",
     "output_type": "stream",
     "text": [
      "1\n",
      "done\n",
      "[Errno 17] File exists: '/Users/i517610/Documents/small_experiments/simple_relation/debug_v/train'\n",
      "[Errno 17] File exists: '/Users/i517610/Documents/small_experiments/simple_relation/debug_v/train/images'\n",
      "0\n",
      "0\n",
      "done\n"
     ]
    }
   ],
   "source": [
    "run_scene_generator(n_scenes=100, output_dir='/Users/i517610/Documents/small_experiments/simple_relation/debug_v/val')\n",
    "run_scene_generator(n_scenes=4, output_dir='/Users/i517610/Documents/small_experiments/simple_relation/debug_v/train')"
   ]
  },
  {
   "cell_type": "code",
   "execution_count": 26,
   "metadata": {},
   "outputs": [],
   "source": [
    "def make_ll(n_items, f_out):\n",
    "    bad_list = []\n",
    "    for a in range(n_items):\n",
    "        bad_idcs = np.random.permutation(10)\n",
    "        bad_list.append([int(wut) for wut in list(bad_idcs)])\n",
    "        \n",
    "    with open(os.path.join(f_out, 'limiter_list.json'), 'w') as f:\n",
    "        json.dump(bad_list, f)"
   ]
  },
  {
   "cell_type": "code",
   "execution_count": 30,
   "metadata": {},
   "outputs": [
    {
     "name": "stdout",
     "output_type": "stream",
     "text": [
      "0\n",
      "half a million aint enough yayoo... yerigte\n"
     ]
    },
    {
     "name": "stderr",
     "output_type": "stream",
     "text": [
      "/Users/i517610/.conda/envs/testing_ground/lib/python3.7/site-packages/ipykernel_launcher.py:160: RuntimeWarning: divide by zero encountered in int_scalars\n"
     ]
    },
    {
     "name": "stdout",
     "output_type": "stream",
     "text": [
      "half a million aint enough yayoo... yerigte\n",
      "200\n",
      "400\n",
      "600\n",
      "half a million aint enough yayoo... yerigte\n",
      "half a million aint enough yayoo... yerigte\n",
      "800\n",
      "1000\n",
      "half a million aint enough yayoo... yerigte\n",
      "1200\n",
      "1400\n",
      "1600\n",
      "1800\n",
      "half a million aint enough yayoo... yerigte\n",
      "half a million aint enough yayoo... yerigte\n",
      "2000\n",
      "half a million aint enough yayoo... yerigte\n",
      "2200\n",
      "2400\n",
      "2600\n",
      "2800\n",
      "3000\n",
      "3200\n",
      "3400\n",
      "half a million aint enough yayoo... yerigte\n",
      "3600\n",
      "3800\n",
      "half a million aint enough yayoo... yerigte\n",
      "half a million aint enough yayoo... yerigte\n",
      "4000\n",
      "4200\n",
      "4400\n",
      "4600\n",
      "4800\n",
      "half a million aint enough yayoo... yerigte\n",
      "half a million aint enough yayoo... yerigte\n",
      "5000\n",
      "half a million aint enough yayoo... yerigte\n",
      "half a million aint enough yayoo... yerigte\n",
      "5200\n",
      "5400\n",
      "half a million aint enough yayoo... yerigte\n",
      "5600\n",
      "half a million aint enough yayoo... yerigte\n",
      "5800\n",
      "half a million aint enough yayoo... yerigte\n",
      "half a million aint enough yayoo... yerigte\n",
      "6000\n",
      "half a million aint enough yayoo... yerigte\n",
      "20 fails\n",
      "6200\n",
      "half a million aint enough yayoo... yerigte\n",
      "6400\n",
      "half a million aint enough yayoo... yerigte\n",
      "6600\n",
      "6800\n",
      "7000\n",
      "half a million aint enough yayoo... yerigte\n",
      "7200\n",
      "half a million aint enough yayoo... yerigte\n",
      "7400\n",
      "7600\n",
      "half a million aint enough yayoo... yerigte\n",
      "half a million aint enough yayoo... yerigte\n",
      "7800\n",
      "half a million aint enough yayoo... yerigte\n",
      "half a million aint enough yayoo... yerigte\n",
      "8000\n",
      "8200\n",
      "8400\n",
      "8600\n",
      "8800\n",
      "half a million aint enough yayoo... yerigte\n",
      "9000\n",
      "half a million aint enough yayoo... yerigte\n",
      "9200\n",
      "half a million aint enough yayoo... yerigte\n",
      "9400\n",
      "9600\n",
      "9800\n",
      "half a million aint enough yayoo... yerigte\n",
      "10000\n",
      "half a million aint enough yayoo... yerigte\n",
      "10200\n",
      "half a million aint enough yayoo... yerigte\n",
      "half a million aint enough yayoo... yerigte\n",
      "10400\n",
      "half a million aint enough yayoo... yerigte\n",
      "10600\n",
      "10800\n",
      "half a million aint enough yayoo... yerigte\n",
      "11000\n",
      "11200\n",
      "half a million aint enough yayoo... yerigte\n",
      "11400\n",
      "11600\n",
      "half a million aint enough yayoo... yerigte\n",
      "11800\n",
      "half a million aint enough yayoo... yerigte\n",
      "40 fails\n",
      "half a million aint enough yayoo... yerigte\n",
      "41\n",
      "done\n",
      "0\n",
      "half a million aint enough yayoo... yerigte\n",
      "half a million aint enough yayoo... yerigte\n",
      "half a million aint enough yayoo... yerigte\n",
      "200\n",
      "half a million aint enough yayoo... yerigte\n",
      "400\n",
      "half a million aint enough yayoo... yerigte\n",
      "half a million aint enough yayoo... yerigte\n",
      "half a million aint enough yayoo... yerigte\n",
      "half a million aint enough yayoo... yerigte\n",
      "600\n",
      "800\n",
      "half a million aint enough yayoo... yerigte\n",
      "1000\n",
      "half a million aint enough yayoo... yerigte\n",
      "1200\n",
      "half a million aint enough yayoo... yerigte\n",
      "1400\n",
      "half a million aint enough yayoo... yerigte\n",
      "half a million aint enough yayoo... yerigte\n",
      "1600\n",
      "half a million aint enough yayoo... yerigte\n",
      "1800\n",
      "half a million aint enough yayoo... yerigte\n",
      "half a million aint enough yayoo... yerigte\n",
      "16\n",
      "done\n"
     ]
    }
   ],
   "source": [
    "#### MASTER GENERATOR\n",
    "datarootest = '/Users/i517610/Documents/small_experiments/simple_relation/datasets'\n",
    "dset_name = 'sr5'\n",
    "dataroot = os.path.join(datarootest, dset_name)\n",
    "n_train = 12000\n",
    "n_val = 2000\n",
    "\n",
    "run_scene_generator(n_train, output_dir=os.path.join(dataroot, 'train'))\n",
    "run_scene_generator(n_val, output_dir=os.path.join(dataroot, 'val'))\n",
    "make_ll(n_train, os.path.join(dataroot, 'train'))\n",
    "make_ll(n_val, os.path.join(dataroot, 'val'))"
   ]
  },
  {
   "cell_type": "code",
   "execution_count": null,
   "metadata": {},
   "outputs": [],
   "source": []
  }
 ],
 "metadata": {
  "kernelspec": {
   "display_name": "Python 3",
   "language": "python",
   "name": "python3"
  },
  "language_info": {
   "codemirror_mode": {
    "name": "ipython",
    "version": 3
   },
   "file_extension": ".py",
   "mimetype": "text/x-python",
   "name": "python",
   "nbconvert_exporter": "python",
   "pygments_lexer": "ipython3",
   "version": "3.7.3"
  }
 },
 "nbformat": 4,
 "nbformat_minor": 2
}
